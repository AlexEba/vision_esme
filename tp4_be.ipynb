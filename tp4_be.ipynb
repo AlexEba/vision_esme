{
 "cells": [
  {
   "cell_type": "markdown",
   "metadata": {},
   "source": [
    "# Vision industrielle - TP noté"
   ]
  },
  {
   "cell_type": "markdown",
   "metadata": {},
   "source": [
    "### Exécuter la cellule suivante afin de charger l'ensemble des outils et fonctions nécessaires"
   ]
  },
  {
   "cell_type": "code",
   "execution_count": null,
   "metadata": {
    "collapsed": false
   },
   "outputs": [],
   "source": [
    "from IPython.core.display import HTML\n",
    "from functools import partial\n",
    "import numpy as np\n",
    "import scipy.ndimage\n",
    "import matplotlib.pyplot as plt\n",
    "import matplotlib.patches as mpatches\n",
    "%matplotlib notebook\n",
    "#%matplotlib inline\n",
    "import pip\n",
    "pip.main('install imageio'.split())\n",
    "import imageio\n",
    "import skimage.morphology\n",
    "import skimage.segmentation\n",
    "import skimage.feature\n",
    "import skimage.data\n",
    "\n",
    "\n",
    "plt.rcParams['image.cmap'] = 'gray'\n",
    "plt.rcParams['image.interpolation'] = 'none'\n",
    "plt.rcParams['figure.max_open_warning'] = 100\n",
    "plt.rcParams['figure.figsize'] = 2, 2\n",
    "\n",
    "def format_coord(x, y, image):\n",
    "    x = int(x + 0.5)\n",
    "    y = int(y + 0.5)\n",
    "    try:\n",
    "        val = str(image[y, x])\n",
    "    except IndexError:\n",
    "        val = \"?\"\n",
    "    return \"color={} @ [{}, {}]\".format(val, y, x)\n",
    "\n",
    "def display_image_nb(image, title='', cmap=None):\n",
    "    fig, ax = plt.subplots(1,1)\n",
    "    if cmap is None:\n",
    "        ax.matshow(image)\n",
    "    else:\n",
    "        ax.matshow(image, cmap=cmap)\n",
    "    ax.set_xlabel(title)\n",
    "    ax.format_coord = partial(format_coord, image=image)\n",
    "    #return fig, ax\n",
    "\n",
    "def display_image_color(image, title=''):\n",
    "    fig, ax = plt.subplots(1,1)\n",
    "    ax.imshow(image)\n",
    "    ax.set_xlabel(title)\n",
    "    ax.format_coord = partial(format_coord, image=image)\n",
    "    #return fig, ax\n",
    "\n",
    "def draw_rectangle(y1, x1, y2, x2, color='red', ax=None, alpha=1):\n",
    "    \"\"\" Add a rectangle on an image \"\"\"\n",
    "    if ax is None:\n",
    "        ax = plt.gca()\n",
    "    rect = mpatches.Rectangle((x1, y1), x2 - x1, y2 - y1,\n",
    "                              fill=False, edgecolor=color, linewidth=2, alpha=alpha)\n",
    "    ax.add_patch(rect)\n",
    "\n",
    "print(\"OK let's go\")\n"
   ]
  },
  {
   "cell_type": "markdown",
   "metadata": {},
   "source": [
    "# Exercice 1: Trouver les différences\n",
    "\n",
    "Compléter le code suivant afin de trouver les différences entre les deux images img_nb_1, img_nb_2\n"
   ]
  },
  {
   "cell_type": "code",
   "execution_count": null,
   "metadata": {
    "collapsed": false
   },
   "outputs": [],
   "source": [
    "# chargement des images\n",
    "img_nb_1 = imageio.imread('http://srand.fr/data/spot_diff_1.png')\n",
    "img_nb_2 = imageio.imread('http://srand.fr/data/spot_diff_2.png')\n",
    "display_image_nb(img_nb_1, title='img1')\n",
    "display_image_nb(img_nb_2, title='img2')\n"
   ]
  },
  {
   "cell_type": "markdown",
   "metadata": {},
   "source": [
    "- Calculer la différence entre **img_nb_1** et **img_nb_2**:"
   ]
  },
  {
   "cell_type": "code",
   "execution_count": null,
   "metadata": {
    "collapsed": false
   },
   "outputs": [],
   "source": [
    "img_diff ="
   ]
  },
  {
   "cell_type": "markdown",
   "metadata": {},
   "source": [
    "- Afficher l'image des différences"
   ]
  },
  {
   "cell_type": "code",
   "execution_count": null,
   "metadata": {
    "collapsed": true
   },
   "outputs": [],
   "source": []
  },
  {
   "cell_type": "markdown",
   "metadata": {},
   "source": [
    "- Calculer le masque binaire correspondant aux positions où une différence a été détectée (le masque doit valoir **True** là où une différence a été détectée)\n",
    "- Afficher ce masque"
   ]
  },
  {
   "cell_type": "code",
   "execution_count": null,
   "metadata": {
    "collapsed": true
   },
   "outputs": [],
   "source": [
    "mask = \n",
    "\n",
    "# afficher le masque : "
   ]
  },
  {
   "cell_type": "markdown",
   "metadata": {},
   "source": [
    "- Utiliser une opération morphologique afin de regrouper les régions du masque ayant des valeurs à True (i.e il s'agit ici d'enlever les trous dans les zones blanches)"
   ]
  },
  {
   "cell_type": "code",
   "execution_count": null,
   "metadata": {
    "collapsed": false
   },
   "outputs": [],
   "source": [
    "import skimage.morphology\n",
    "\n",
    "new_mask = "
   ]
  },
  {
   "cell_type": "markdown",
   "metadata": {},
   "source": [
    "Dessiner un rectange autour\n",
    "\n",
    "Aide: le code est quasiment similaire à celui du tp1 (cellule 31: http://srand.fr/cours/tp1_red_ball_detection-Correction_one_page.html )"
   ]
  },
  {
   "cell_type": "code",
   "execution_count": null,
   "metadata": {
    "collapsed": true
   },
   "outputs": [],
   "source": []
  },
  {
   "cell_type": "markdown",
   "metadata": {},
   "source": [
    "- Combien de différences présentent les deux images"
   ]
  },
  {
   "cell_type": "code",
   "execution_count": null,
   "metadata": {
    "collapsed": true
   },
   "outputs": [],
   "source": []
  },
  {
   "cell_type": "code",
   "execution_count": null,
   "metadata": {
    "collapsed": true
   },
   "outputs": [],
   "source": []
  },
  {
   "cell_type": "markdown",
   "metadata": {},
   "source": [
    "Solution"
   ]
  },
  {
   "cell_type": "code",
   "execution_count": null,
   "metadata": {
    "collapsed": false
   },
   "outputs": [],
   "source": [
    "res = left - right\n",
    "#display_image_nb(res)\n",
    "mask = res != 0\n",
    "\n",
    "d = skimage.morphology.closing(mask, selem=skimage.morphology.diamond(5))\n",
    "\n",
    "label_image = skimage.measure.label(d)\n",
    "display_image_color(img_nb_1)\n",
    "for region in skimage.measure.regionprops(label_image):\n",
    "    # skip small region\n",
    "    if region.area < 100:\n",
    "        continue\n",
    "\n",
    "    # draw rectangle around segmented coins\n",
    "    minr, minc, maxr, maxc = region.bbox\n",
    "    draw_rectangle(minr, minc, maxr, maxc, color='green')\n",
    "\n",
    "display_image_color(img_nb_2)\n",
    "for region in skimage.measure.regionprops(label_image):\n",
    "    # skip small region\n",
    "    if region.area < 100:\n",
    "        continue\n",
    "\n",
    "    # draw rectangle around segmented coins\n",
    "    minr, minc, maxr, maxc = region.bbox\n",
    "    draw_rectangle(minr, minc, maxr, maxc, color='green')\n",
    "\n",
    "    \n",
    "    "
   ]
  },
  {
   "cell_type": "code",
   "execution_count": null,
   "metadata": {
    "collapsed": true
   },
   "outputs": [],
   "source": []
  },
  {
   "cell_type": "code",
   "execution_count": null,
   "metadata": {
    "collapsed": false
   },
   "outputs": [],
   "source": [
    "url = \"http://srand.fr/data/plaque_imat_1.jpg\"\n",
    "image = imageio.imread(url)"
   ]
  },
  {
   "cell_type": "code",
   "execution_count": null,
   "metadata": {
    "collapsed": false
   },
   "outputs": [],
   "source": [
    "display_image_color(image)"
   ]
  },
  {
   "cell_type": "code",
   "execution_count": null,
   "metadata": {
    "collapsed": false
   },
   "outputs": [],
   "source": [
    "image_nb = skimage.color.rgb2gray(image)\n",
    "#image_res = image_nb.copy()\n",
    "#image_res[~(image_nb < 0.4)] = 1\n",
    "#display_image_nb(image_res)\n",
    "\n",
    "#display_image_nb(skimage.feature.canny(image_nb))\n",
    "res = skimage.color.rgb2lab(image)\n",
    "k = res[:,:,0].copy()\n",
    "display_image_nb(res[:,:,0])"
   ]
  },
  {
   "cell_type": "code",
   "execution_count": null,
   "metadata": {
    "collapsed": true
   },
   "outputs": [],
   "source": []
  },
  {
   "cell_type": "markdown",
   "metadata": {},
   "source": [
    "1. Training images\n",
    "------------------\n",
    "\n",
    "These are located in CarData/TrainImages/.\n",
    "The positive (car) images are named pos-n.pgm (0 <= n <= 549). \n",
    "The negative (non-car) images are named similarly as neg-n.pgm \n",
    "(0 <= n <= 499). \n",
    "\n",
    "The training images are all 100x40 pixels in size.\n",
    "\n",
    "\n",
    "2. Test images - Single-scale\n",
    "-----------------------------\n",
    "\n",
    "These are located in CarData/TestImages/ and are named test-n.pgm\n",
    "(0 <= n <= 169). The images are of different sizes themselves but\n",
    "contain cars of approximately the same scale as in the training\n",
    "images. These test images contain 200 cars in all.\n"
   ]
  },
  {
   "cell_type": "code",
   "execution_count": null,
   "metadata": {
    "collapsed": true
   },
   "outputs": [],
   "source": [
    "# décompressez l'archive, vous pouvez aussi utiliser un outil tels que winrar pour décompresser l'archive\n",
    "#import tarfile\n",
    "#tar_obj = tarfile.open(chemin_vers_archive)\n",
    "#tar_obj.extractall('./')"
   ]
  },
  {
   "cell_type": "code",
   "execution_count": null,
   "metadata": {
    "collapsed": false
   },
   "outputs": [],
   "source": [
    "import glob\n",
    "path = '/home/seto/Téléchargements/test/CarData/TrainImages/'\n",
    "negative_files = glob.glob(path + 'neg-*.pgm')\n",
    "positive_files = glob.glob(path + 'pos-*.pgm')\n",
    "\n",
    "X = []\n",
    "Y = []\n",
    "\n",
    "for file in negative_files:\n",
    "    image = imageio.imread(file)\n",
    "    X.append(image.flatten())\n",
    "    Y.append('negative')\n",
    "    \n",
    "for file in positive_files:\n",
    "    image = imageio.imread(file)\n",
    "    X.append(image.flatten())\n",
    "    Y.append('positive')\n",
    "    \n",
    "imageio.imread(file).shape"
   ]
  },
  {
   "cell_type": "code",
   "execution_count": null,
   "metadata": {
    "collapsed": true
   },
   "outputs": [],
   "source": [
    "import sklearn\n",
    "from sklearn.neighbors import KNeighborsClassifier\n",
    "from sklearn.cross_validation import cross_val_score"
   ]
  },
  {
   "cell_type": "code",
   "execution_count": null,
   "metadata": {
    "collapsed": false
   },
   "outputs": [],
   "source": [
    "clf = KNeighborsClassifier()\n",
    "#clf.fit(X,Y)\n",
    "cross_val_score(clf, X, Y)\n",
    "\n",
    "from sklearn.ensemble import AdaBoostClassifier\n",
    "clf = AdaBoostClassifier()"
   ]
  },
  {
   "cell_type": "code",
   "execution_count": null,
   "metadata": {
    "collapsed": false
   },
   "outputs": [],
   "source": [
    "from sklearn.ensemble import AdaBoostClassifier\n",
    "clf = AdaBoostClassifier()\n",
    "print(cross_val_score(clf, X, Y))\n",
    "clf.fit(X,Y)"
   ]
  },
  {
   "cell_type": "code",
   "execution_count": null,
   "metadata": {
    "collapsed": true
   },
   "outputs": [],
   "source": [
    "\n",
    "def check_image(image_test, window_size = (40, 100), clf=clf):\n",
    "    STEP = max(window_size) /5\n",
    "    tab = skimage.util.view_as_windows(image_test, window_size, STEP)\n",
    "    display_image_nb(image_test)\n",
    "    for i in range(tab.shape[0]):\n",
    "        for j in range(tab.shape[1]):\n",
    "            block = tab[i, j]\n",
    "            prediction = clf.predict(block.flatten())\n",
    "            #print(prediction)\n",
    "            if prediction == 'positive':\n",
    "                draw_rectangle(i*STEP, j*STEP, i*STEP+window_size[0], j*STEP+window_size[1], color='green')\n"
   ]
  },
  {
   "cell_type": "code",
   "execution_count": null,
   "metadata": {
    "collapsed": false
   },
   "outputs": [],
   "source": [
    "X[10].shape\n"
   ]
  },
  {
   "cell_type": "code",
   "execution_count": null,
   "metadata": {
    "collapsed": false,
    "scrolled": true
   },
   "outputs": [],
   "source": [
    "test_images = glob.glob('/home/seto/Téléchargements/test/CarData/TestImages/*.pgm')\n",
    "i = 0\n",
    "%matplotlib inline\n",
    "for file in test_images:\n",
    "    image = imageio.imread(file)\n",
    "    #display_image_nb(image)\n",
    "    check_image(image)\n",
    "    i+=1\n",
    "    if i > 100:\n",
    "        break\n"
   ]
  },
  {
   "cell_type": "code",
   "execution_count": null,
   "metadata": {
    "collapsed": true
   },
   "outputs": [],
   "source": [
    "TODO a finir.. facile"
   ]
  },
  {
   "cell_type": "code",
   "execution_count": null,
   "metadata": {
    "collapsed": true
   },
   "outputs": [],
   "source": [
    "from skimage.feature import local_binary_pattern\n",
    "\n",
    "def compute_feature_vect(image, debug=False):\n",
    "    radius = 2\n",
    "    n_points = 8 * radius\n",
    "    METHOD = 'uniform'\n",
    "    lbp = local_binary_pattern(image, n_points, radius, METHOD)\n",
    "    n_bins = 18\n",
    "    hists = []\n",
    "    if debug:\n",
    "        display_image_nb(image)\n",
    "    I = image.shape[0] / 6\n",
    "    J = image.shape[1] / 5\n",
    "    step = 10\n",
    "    #tab = skimage.util.view_as_blocks(lbp, (I, J))\n",
    "    tab = skimage.util.view_as_windows(lbp, (I,J), step=step)\n",
    "    c = 0\n",
    "    colors = ['blue', 'green', 'red']\n",
    "    for i in range(tab.shape[0]):\n",
    "        for j in range(tab.shape[1]):\n",
    "            c+=1\n",
    "            sub = tab[i, j]\n",
    "            hist, _ = np.histogram(sub, normed=True, bins=n_bins, range=(0, n_bins))\n",
    "            hists.append(hist.flatten())\n",
    "            if debug:\n",
    "                draw_rectangle(i*step, j*step, i*step+I-1, j*step+J-1, color=colors[c%len(colors)], alpha=0.8)\n",
    "    return np.array(hists).flatten()"
   ]
  },
  {
   "cell_type": "code",
   "execution_count": null,
   "metadata": {
    "collapsed": false
   },
   "outputs": [],
   "source": [
    "import glob\n",
    "path = '/home/seto/Téléchargements/test/CarData/TrainImages/'\n",
    "negative_files = glob.glob(path + 'neg-*.pgm')\n",
    "positive_files = glob.glob(path + 'pos-*.pgm')\n",
    "\n",
    "X = []\n",
    "Y = []\n",
    "\n",
    "for file in negative_files:\n",
    "    image = imageio.imread(file)\n",
    "    X.append(compute_feature_vect(image))\n",
    "    Y.append('negative')\n",
    "    \n",
    "for file in positive_files:\n",
    "    image = imageio.imread(file)\n",
    "    X.append(compute_feature_vect(image))\n",
    "    Y.append('positive')\n",
    "    \n",
    "    \n",
    "clf = KNeighborsClassifier(10)\n",
    "from sklearn.ensemble import AdaBoostClassifier\n",
    "clf = AdaBoostClassifier(n_estimators=200)"
   ]
  },
  {
   "cell_type": "code",
   "execution_count": null,
   "metadata": {
    "collapsed": false
   },
   "outputs": [],
   "source": [
    "print(cross_val_score(clf, X, Y))\n",
    "clf.fit(X,Y)"
   ]
  },
  {
   "cell_type": "code",
   "execution_count": null,
   "metadata": {
    "collapsed": true
   },
   "outputs": [],
   "source": [
    "\n",
    "def check_image(image_test, window_size = (40, 100), clf=clf, compute_feat=None):\n",
    "    STEP = max(window_size) /5\n",
    "    tab = skimage.util.view_as_windows(image_test, window_size, STEP)\n",
    "    display_image_nb(image_test)\n",
    "    for i in range(tab.shape[0]):\n",
    "        for j in range(tab.shape[1]):\n",
    "            block = tab[i, j]\n",
    "            if compute_feat is not None:\n",
    "                block = compute_feat(block)\n",
    "            prediction = clf.predict(block.flatten())\n",
    "            #print(prediction)\n",
    "            if prediction == 'positive':\n",
    "                draw_rectangle(i*STEP, j*STEP, i*STEP+window_size[0], j*STEP+window_size[1], color='green')\n",
    "            if prediction == 'negative':\n",
    "                draw_rectangle(i*STEP, j*STEP, i*STEP+window_size[0], j*STEP+window_size[1], color='red')\n"
   ]
  },
  {
   "cell_type": "code",
   "execution_count": null,
   "metadata": {
    "collapsed": false,
    "scrolled": false
   },
   "outputs": [],
   "source": [
    "test_images = glob.glob('/home/seto/Téléchargements/test/CarData/TestImages/*.pgm')\n",
    "i = 0\n",
    "%matplotlib inline\n",
    "for file in test_images:\n",
    "    image = imageio.imread(file)\n",
    "    #display_image_nb(image)\n",
    "    check_image(image, compute_feat=compute_feature_vect, clf=clf)\n",
    "    i+=1\n",
    "    if i > 10:\n",
    "        break\n"
   ]
  }
 ],
 "metadata": {
  "kernelspec": {
   "display_name": "Python 3",
   "language": "python",
   "name": "python3"
  },
  "language_info": {
   "codemirror_mode": {
    "name": "ipython",
    "version": 3
   },
   "file_extension": ".py",
   "mimetype": "text/x-python",
   "name": "python",
   "nbconvert_exporter": "python",
   "pygments_lexer": "ipython3",
   "version": "3.4.4"
  }
 },
 "nbformat": 4,
 "nbformat_minor": 0
}
